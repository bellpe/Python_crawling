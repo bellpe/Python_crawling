{
 "cells": [
  {
   "cell_type": "markdown",
   "id": "514afefb",
   "metadata": {},
   "source": [
    "### 조건문\n",
    "- 상황에 따라 다르게 처리하는 구문\n",
    "- 종류 : if , else, elif"
   ]
  },
  {
   "cell_type": "code",
   "execution_count": 2,
   "id": "8311f28b",
   "metadata": {},
   "outputs": [],
   "source": [
    "money = 3000\n",
    "if money >= 10000 : # 1. 콜론\n",
    "    print('택시를 탄다') # 2. 들여쓰기"
   ]
  },
  {
   "cell_type": "code",
   "execution_count": 4,
   "id": "9243d5d2",
   "metadata": {},
   "outputs": [
    {
     "name": "stdout",
     "output_type": "stream",
     "text": [
      "택시를 탄다\n",
      "집에 편하게 간다~~\n",
      "얍!!!!!\n"
     ]
    }
   ],
   "source": [
    "money = 30000\n",
    "\n",
    "if money > 10000:\n",
    "    print('택시를 탄다')\n",
    "    print('집에 편하게 간다~~')\n",
    "    print('얍!!!!!')\n",
    "else: # 조건식 XXX\n",
    "    print('버스를 탄다')\n",
    "    print('차 사고 싶다')"
   ]
  },
  {
   "cell_type": "code",
   "execution_count": 6,
   "id": "da38e2a2",
   "metadata": {},
   "outputs": [
    {
     "name": "stdout",
     "output_type": "stream",
     "text": [
      "elif문 실행!\n"
     ]
    }
   ],
   "source": [
    "# elif\n",
    "if False:\n",
    "    print('if문 실행!')\n",
    "elif True:\n",
    "    print('elif문 실행!')\n",
    "elif True:\n",
    "    print('elif문 222 실행')\n",
    "else:\n",
    "    print('else문 실행')"
   ]
  },
  {
   "cell_type": "code",
   "execution_count": 7,
   "id": "75faf5b1",
   "metadata": {},
   "outputs": [
    {
     "name": "stdout",
     "output_type": "stream",
     "text": [
      "첫번째 정수 입력 >> 7\n",
      "두번째 정수 입력 >> 7\n",
      "두 수가 똑같습니다.\n"
     ]
    }
   ],
   "source": [
    "num1 = int(input('첫번째 정수 입력 >> '))\n",
    "num2 = int(input('두번째 정수 입력 >> '))\n",
    "if num1>num2:\n",
    "    print('첫번째 정수가 더 큽니다.')\n",
    "elif num1<num2:\n",
    "    print('두번째 정수가 더 큽니다.')\n",
    "else:\n",
    "    print('두 수가 똑같습니다.')"
   ]
  },
  {
   "cell_type": "code",
   "execution_count": null,
   "id": "5a3f23e4",
   "metadata": {},
   "outputs": [],
   "source": []
  }
 ],
 "metadata": {
  "kernelspec": {
   "display_name": "Python 3 (ipykernel)",
   "language": "python",
   "name": "python3"
  },
  "language_info": {
   "codemirror_mode": {
    "name": "ipython",
    "version": 3
   },
   "file_extension": ".py",
   "mimetype": "text/x-python",
   "name": "python",
   "nbconvert_exporter": "python",
   "pygments_lexer": "ipython3",
   "version": "3.9.7"
  }
 },
 "nbformat": 4,
 "nbformat_minor": 5
}
