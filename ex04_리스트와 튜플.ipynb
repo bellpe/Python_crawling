{
 "cells": [
  {
   "cell_type": "markdown",
   "id": "1af83484",
   "metadata": {},
   "source": [
    "### 리스트\n",
    "- 순서가 있다\n",
    "- 수정가능하다\n",
    "- 대괄호 []로 작성되고 콤마(,)로 구분한다\n",
    "- 추가, 수정 삭제 가능"
   ]
  },
  {
   "cell_type": "code",
   "execution_count": 2,
   "id": "c67eee19",
   "metadata": {},
   "outputs": [
    {
     "data": {
      "text/plain": [
       "[3]"
      ]
     },
     "execution_count": 2,
     "metadata": {},
     "output_type": "execute_result"
    }
   ],
   "source": [
    "# 리스트 선언하기\n",
    "list1 = [3]\n",
    "list1"
   ]
  },
  {
   "cell_type": "code",
   "execution_count": 3,
   "id": "5deb7d98",
   "metadata": {},
   "outputs": [
    {
     "data": {
      "text/plain": [
       "[1, 2, 3, 4, 5, 6, 7, 8, 9, 10]"
      ]
     },
     "execution_count": 3,
     "metadata": {},
     "output_type": "execute_result"
    }
   ],
   "source": [
    "list2 = [1,2,3,4,5,6,7,8,9,10]\n",
    "list2"
   ]
  },
  {
   "cell_type": "code",
   "execution_count": 4,
   "id": "f9c61d2a",
   "metadata": {},
   "outputs": [
    {
     "data": {
      "text/plain": [
       "[]"
      ]
     },
     "execution_count": 4,
     "metadata": {},
     "output_type": "execute_result"
    }
   ],
   "source": [
    "# 요소가 없어도 비어있는 리스트\n",
    "list3 = []\n",
    "list3"
   ]
  },
  {
   "cell_type": "code",
   "execution_count": 21,
   "id": "069af427",
   "metadata": {},
   "outputs": [],
   "source": [
    "# 리스트 선언하기 2\n",
    "list1 = [1,2,3,4,5] # 정수형\n",
    "list2 = [1.4, 5.2, 6.0 , 2.3] #실수형\n",
    "list3 = ['치킨', '피자', '빵', '마카롱'] # 문자열\n",
    "list4 = [True, False, True, False] # 논리 자료형\n",
    "list5 = [1, 2, 3, 'a', 'b'] # 다양한 자료형\n",
    "list6 = [1, 2, 4, ['a', 'b', 'c']] # 리스트도 요소로!"
   ]
  },
  {
   "cell_type": "code",
   "execution_count": 8,
   "id": "6fdb5a72",
   "metadata": {},
   "outputs": [
    {
     "data": {
      "text/plain": [
       "[1, 2, 3, 'a', 'b']"
      ]
     },
     "execution_count": 8,
     "metadata": {},
     "output_type": "execute_result"
    }
   ],
   "source": [
    "list5"
   ]
  },
  {
   "cell_type": "code",
   "execution_count": 11,
   "id": "73649ae5",
   "metadata": {},
   "outputs": [
    {
     "data": {
      "text/plain": [
       "list"
      ]
     },
     "execution_count": 11,
     "metadata": {},
     "output_type": "execute_result"
    }
   ],
   "source": [
    "type(list6)"
   ]
  },
  {
   "cell_type": "code",
   "execution_count": null,
   "id": "bcdbfbd0",
   "metadata": {},
   "outputs": [],
   "source": []
  },
  {
   "cell_type": "markdown",
   "id": "ad8c5e73",
   "metadata": {},
   "source": [
    "### 인덱싱, 슬라이싱"
   ]
  },
  {
   "cell_type": "code",
   "execution_count": 14,
   "id": "bc046a50",
   "metadata": {},
   "outputs": [
    {
     "name": "stdout",
     "output_type": "stream",
     "text": [
      "[1, 2, 3, 4, 5]\n",
      "3\n",
      "3\n"
     ]
    }
   ],
   "source": [
    "# 원하는 위치 가르키기, 잘라오기\n",
    "# 인덱싱\n",
    "print(list1)\n",
    "print(list1[2])\n",
    "print(list1[-3])"
   ]
  },
  {
   "cell_type": "code",
   "execution_count": 20,
   "id": "0eef7452",
   "metadata": {},
   "outputs": [
    {
     "name": "stdout",
     "output_type": "stream",
     "text": [
      "[1, 2, 3, ['a', 'b', 'c']]\n",
      "b\n"
     ]
    },
    {
     "data": {
      "text/plain": [
       "'b'"
      ]
     },
     "execution_count": 20,
     "metadata": {},
     "output_type": "execute_result"
    }
   ],
   "source": [
    "list2 = [1,2,3,['a','b', 'c']]\n",
    "print(list2)\n",
    "# temp 변수에 ['a', 'b', 'c'] 저장 후 출력\n",
    "temp = list2[3]\n",
    "# temp 변수에서 'b' 만 출력\n",
    "print(temp[1])\n",
    "# list2에서 'b'\n",
    "list2[3][1]"
   ]
  },
  {
   "cell_type": "code",
   "execution_count": 25,
   "id": "c172d0e7",
   "metadata": {},
   "outputs": [
    {
     "name": "stdout",
     "output_type": "stream",
     "text": [
      "['치킨', '피자', '빵', '마카롱']\n",
      "['피자', '빵']\n"
     ]
    }
   ],
   "source": [
    "# 슬라이싱\n",
    "print(list3)\n",
    "print(list3[1:3]) # 결과 -> 리스트로 반환"
   ]
  },
  {
   "cell_type": "markdown",
   "id": "c37053a9",
   "metadata": {},
   "source": [
    "- 리스트 더하기"
   ]
  },
  {
   "cell_type": "code",
   "execution_count": 28,
   "id": "9919cf38",
   "metadata": {},
   "outputs": [
    {
     "data": {
      "text/plain": [
       "[1, 2, 3, 4, 5, 6]"
      ]
     },
     "execution_count": 28,
     "metadata": {},
     "output_type": "execute_result"
    }
   ],
   "source": [
    "# 요소끼리(값)의 연산이 아니라 리스트가 이어 붙어\n",
    "list1 = [1,2,3]\n",
    "list2 = [4,5,6]\n",
    "list1 + list2"
   ]
  },
  {
   "cell_type": "code",
   "execution_count": 31,
   "id": "5908c78e",
   "metadata": {},
   "outputs": [
    {
     "name": "stdout",
     "output_type": "stream",
     "text": [
      "1\n",
      "4\n",
      "5\n"
     ]
    }
   ],
   "source": [
    "print(list1[0])\n",
    "print(list2[0])\n",
    "print(list1[0]+list2[0])"
   ]
  },
  {
   "cell_type": "code",
   "execution_count": 32,
   "id": "655eb3cd",
   "metadata": {},
   "outputs": [
    {
     "ename": "TypeError",
     "evalue": "can only concatenate list (not \"int\") to list",
     "output_type": "error",
     "traceback": [
      "\u001b[1;31m---------------------------------------------------------------------------\u001b[0m",
      "\u001b[1;31mTypeError\u001b[0m                                 Traceback (most recent call last)",
      "\u001b[1;32m~\\AppData\\Local\\Temp/ipykernel_9420/3704693983.py\u001b[0m in \u001b[0;36m<module>\u001b[1;34m\u001b[0m\n\u001b[1;32m----> 1\u001b[1;33m \u001b[0mlist1\u001b[0m\u001b[1;33m[\u001b[0m\u001b[1;36m0\u001b[0m\u001b[1;33m:\u001b[0m\u001b[1;36m2\u001b[0m\u001b[1;33m]\u001b[0m\u001b[1;33m+\u001b[0m\u001b[0mlist2\u001b[0m\u001b[1;33m[\u001b[0m\u001b[1;36m0\u001b[0m\u001b[1;33m]\u001b[0m\u001b[1;33m\u001b[0m\u001b[1;33m\u001b[0m\u001b[0m\n\u001b[0m",
      "\u001b[1;31mTypeError\u001b[0m: can only concatenate list (not \"int\") to list"
     ]
    }
   ],
   "source": [
    "# ↓리스트로 반환     ↓정수 데이터 반환\n",
    "list1[0:2]        +  list2[0]"
   ]
  },
  {
   "cell_type": "code",
   "execution_count": 35,
   "id": "77282790",
   "metadata": {},
   "outputs": [
    {
     "name": "stdout",
     "output_type": "stream",
     "text": [
      "[0, 1, 2, 3, 4, 5]\n",
      "3\n",
      "[0, 1, 2, 100, 4, 5]\n"
     ]
    }
   ],
   "source": [
    "# 리스트 값(요소) 수정\n",
    "# 인덱싱 - (자리)가르키다\n",
    "list3 =[0, 1, 2, 3, 4, 5]\n",
    "print(list3)\n",
    "print(list3[3])\n",
    "list3[3] = 100 # 해당 자리에 100값 대입!\n",
    "print(list3)"
   ]
  },
  {
   "cell_type": "code",
   "execution_count": 38,
   "id": "7cc3c353",
   "metadata": {},
   "outputs": [
    {
     "name": "stdout",
     "output_type": "stream",
     "text": [
      "[0, 1, 2, 100, 4, 5]\n",
      "[1, 2]\n"
     ]
    }
   ],
   "source": [
    "# 슬라이싱 - 리스트 자료형 이용하여 수정\n",
    "print(list3)\n",
    "print(list3[1:3])\n",
    "list3[1:3] = [200]"
   ]
  },
  {
   "cell_type": "code",
   "execution_count": 39,
   "id": "3c088833",
   "metadata": {},
   "outputs": [
    {
     "data": {
      "text/plain": [
       "[0, 200, 100, 4, 5]"
      ]
     },
     "execution_count": 39,
     "metadata": {},
     "output_type": "execute_result"
    }
   ],
   "source": [
    "list3"
   ]
  },
  {
   "cell_type": "markdown",
   "id": "c54ad58c",
   "metadata": {},
   "source": [
    "- 리스트 함수"
   ]
  },
  {
   "cell_type": "code",
   "execution_count": 41,
   "id": "c0bc4b61",
   "metadata": {},
   "outputs": [
    {
     "data": {
      "text/plain": [
       "[2, 5, 10]"
      ]
     },
     "execution_count": 41,
     "metadata": {},
     "output_type": "execute_result"
    }
   ],
   "source": [
    "# 리스트 값 추가 1 - append(값)\n",
    "# 맨 뒤에 값 추가\n",
    "list4 = []\n",
    "\n",
    "list4.append(2)\n",
    "list4.append(5)\n",
    "list4.append(10)\n",
    "\n",
    "list4"
   ]
  },
  {
   "cell_type": "code",
   "execution_count": 43,
   "id": "5b89a4bd",
   "metadata": {},
   "outputs": [
    {
     "name": "stdout",
     "output_type": "stream",
     "text": [
      "[0, 3, 200, 100, 4, 5]\n",
      "[0, 3, 3, 200, 100, 4, 5]\n"
     ]
    }
   ],
   "source": [
    "# 리스트 값 추가 2 - insert(인덱스, 값)\n",
    "print(list3)\n",
    "\n",
    "list3.insert(1,3)\n",
    "print(list3)"
   ]
  },
  {
   "cell_type": "markdown",
   "id": "19195163",
   "metadata": {},
   "source": []
  },
  {
   "cell_type": "code",
   "execution_count": 44,
   "id": "5f228b01",
   "metadata": {},
   "outputs": [
    {
     "name": "stdout",
     "output_type": "stream",
     "text": [
      "[2, 5, 10]\n",
      "[2, 10]\n"
     ]
    }
   ],
   "source": [
    "# 리스트 값 삭제 1 - remove(값)\n",
    "print(list4)\n",
    "list4.remove(5)\n",
    "print(list4)"
   ]
  },
  {
   "cell_type": "code",
   "execution_count": 46,
   "id": "a65bd807",
   "metadata": {},
   "outputs": [],
   "source": [
    "list5.remove('a')"
   ]
  },
  {
   "cell_type": "code",
   "execution_count": 47,
   "id": "33ea0d64",
   "metadata": {},
   "outputs": [
    {
     "data": {
      "text/plain": [
       "[1, 2, 3, 'b']"
      ]
     },
     "execution_count": 47,
     "metadata": {},
     "output_type": "execute_result"
    }
   ],
   "source": [
    "list5"
   ]
  },
  {
   "cell_type": "code",
   "execution_count": 49,
   "id": "419ced2c",
   "metadata": {},
   "outputs": [
    {
     "name": "stdout",
     "output_type": "stream",
     "text": [
      "[0, 3, 3, 200, 100, 4, 5]\n",
      "[0, 3, 200, 100, 4, 5]\n"
     ]
    }
   ],
   "source": [
    "# 리스트 값 삭제 2 - del\n",
    "# del 리스트[인덱싱]\n",
    "# del 리스트[슬라이싱]\n",
    "# del 리스트\n",
    "print(list3)\n",
    "del list3[2] # 인덱싱, 슬라이싱\n",
    "print(list3)"
   ]
  },
  {
   "cell_type": "code",
   "execution_count": 50,
   "id": "bbbcbe30",
   "metadata": {},
   "outputs": [],
   "source": [
    "del list3"
   ]
  },
  {
   "cell_type": "code",
   "execution_count": 52,
   "id": "ab7c204c",
   "metadata": {},
   "outputs": [
    {
     "name": "stdout",
     "output_type": "stream",
     "text": [
      "[3, 50, 62, 15, 82]\n",
      "[3, 15, 50, 62, 82]\n"
     ]
    }
   ],
   "source": [
    "# 리스트 요소 정렬 - sort()\n",
    "# 오름차순\n",
    "list7 = [3, 50, 62, 15, 82]\n",
    "print(list7)\n",
    "list7.sort()\n",
    "print(list7)"
   ]
  },
  {
   "cell_type": "code",
   "execution_count": 54,
   "id": "fdc93b7d",
   "metadata": {},
   "outputs": [
    {
     "name": "stdout",
     "output_type": "stream",
     "text": [
      "[2, 10, 63, 28, 93]\n",
      "[93, 28, 63, 10, 2]\n"
     ]
    }
   ],
   "source": [
    "# 리스트 요소 거꾸로 뒤집기 - reverse()\n",
    "list8 = [2 ,10, 63, 28, 93]\n",
    "print(list8)\n",
    "list8.reverse()\n",
    "print(list8)"
   ]
  },
  {
   "cell_type": "code",
   "execution_count": 56,
   "id": "b1e5a90c",
   "metadata": {},
   "outputs": [
    {
     "data": {
      "text/plain": [
       "[93, 63, 28, 10, 2]"
      ]
     },
     "execution_count": 56,
     "metadata": {},
     "output_type": "execute_result"
    }
   ],
   "source": [
    "# 내림차순 정렬?\n",
    "list8 = [2 ,10, 63, 28, 93]\n",
    "list8.sort()\n",
    "list8.reverse()\n",
    "list8"
   ]
  },
  {
   "cell_type": "code",
   "execution_count": 58,
   "id": "9b45d637",
   "metadata": {},
   "outputs": [
    {
     "name": "stdout",
     "output_type": "stream",
     "text": [
      "[2, 10, 63, 28, 93]\n",
      "[93, 63, 28, 10, 2]\n"
     ]
    }
   ],
   "source": [
    "list8 = [2 ,10, 63, 28, 93]\n",
    "print(list8)\n",
    "# sort 함수의 reverse = False 기본값, default값\n",
    "# reverse = True로 바꾸면 내림차순 정렬\n",
    "list8.sort(reverse=True)\n",
    "print(list8)"
   ]
  },
  {
   "cell_type": "code",
   "execution_count": 61,
   "id": "72020e87",
   "metadata": {},
   "outputs": [
    {
     "name": "stdout",
     "output_type": "stream",
     "text": [
      "[93, 63, 28, 10, 2]\n",
      "[93, 63, 28, 10]\n"
     ]
    }
   ],
   "source": [
    "# pop() 함수\n",
    "# 마지막 값을 반환 후 제거\n",
    "print(list8)\n",
    "list8.pop()\n",
    "print(list8)"
   ]
  },
  {
   "cell_type": "code",
   "execution_count": 62,
   "id": "48c14b2f",
   "metadata": {},
   "outputs": [
    {
     "name": "stdout",
     "output_type": "stream",
     "text": [
      "[93, 63, 28, 10]\n",
      "[93, 63, 28]\n",
      "10\n"
     ]
    }
   ],
   "source": [
    "print(list8)\n",
    "a = list8.pop()\n",
    "print(list8)\n",
    "print(a)"
   ]
  },
  {
   "cell_type": "code",
   "execution_count": 63,
   "id": "0b401c29",
   "metadata": {},
   "outputs": [
    {
     "name": "stdout",
     "output_type": "stream",
     "text": [
      "[1, 2, 3, 'b']\n"
     ]
    },
    {
     "data": {
      "text/plain": [
       "4"
      ]
     },
     "execution_count": 63,
     "metadata": {},
     "output_type": "execute_result"
    }
   ],
   "source": [
    "# 리스트 값의 개수 반환\n",
    "print(list5)\n",
    "len(list5)"
   ]
  },
  {
   "cell_type": "markdown",
   "id": "6f9e927b",
   "metadata": {},
   "source": [
    "### 튜플\n",
    "- 순서가 있다.\n",
    "- 수정 불가능하다.\n",
    "- 소괄호 ()로 작성되고, 콤마(,)로 구분한다."
   ]
  },
  {
   "cell_type": "code",
   "execution_count": 64,
   "id": "42859d9d",
   "metadata": {},
   "outputs": [],
   "source": [
    "# 튜플 생성하기\n",
    "tuple1 = (1,2,3,4,5)\n",
    "tuple2 = ('블루베리', '체리', '딸기')\n",
    "tuple3 = (True, False, 1, 2, '딸기케이크')\n",
    "tuple4 = (1, 2, 3, ('삼겹살', '양념갈비'))"
   ]
  },
  {
   "cell_type": "code",
   "execution_count": 65,
   "id": "58a4213b",
   "metadata": {},
   "outputs": [
    {
     "data": {
      "text/plain": [
       "(1, 2, 3, ('삼겹살', '양념갈비'))"
      ]
     },
     "execution_count": 65,
     "metadata": {},
     "output_type": "execute_result"
    }
   ],
   "source": [
    "tuple4"
   ]
  },
  {
   "cell_type": "code",
   "execution_count": null,
   "id": "6ca76161",
   "metadata": {},
   "outputs": [],
   "source": []
  },
  {
   "cell_type": "markdown",
   "id": "b703dd09",
   "metadata": {},
   "source": [
    "### 인덱싱, 슬라이싱"
   ]
  },
  {
   "cell_type": "code",
   "execution_count": 66,
   "id": "93f9bbe4",
   "metadata": {},
   "outputs": [
    {
     "name": "stdout",
     "output_type": "stream",
     "text": [
      "양념갈비\n"
     ]
    }
   ],
   "source": [
    "# tuple4에서 '양념갈비' 출력\n",
    "print(tuple4[3][1]) # 인덱싱"
   ]
  },
  {
   "cell_type": "code",
   "execution_count": 67,
   "id": "a2d24852",
   "metadata": {},
   "outputs": [
    {
     "name": "stdout",
     "output_type": "stream",
     "text": [
      "(1, 2, 3, ('삼겹살', '양념갈비'))\n"
     ]
    },
    {
     "data": {
      "text/plain": [
       "(1, 2)"
      ]
     },
     "execution_count": 67,
     "metadata": {},
     "output_type": "execute_result"
    }
   ],
   "source": [
    "# 슬라이싱\n",
    "print(tuple4)\n",
    "tuple4[:2]"
   ]
  },
  {
   "cell_type": "code",
   "execution_count": 68,
   "id": "418e76ed",
   "metadata": {},
   "outputs": [
    {
     "data": {
      "text/plain": [
       "4"
      ]
     },
     "execution_count": 68,
     "metadata": {},
     "output_type": "execute_result"
    }
   ],
   "source": [
    "# 튜플 요소 갯수 확인 - len()\n",
    "len(tuple4)"
   ]
  },
  {
   "cell_type": "code",
   "execution_count": 70,
   "id": "b9c9fa80",
   "metadata": {},
   "outputs": [
    {
     "ename": "TypeError",
     "evalue": "'tuple' object does not support item assignment",
     "output_type": "error",
     "traceback": [
      "\u001b[1;31m---------------------------------------------------------------------------\u001b[0m",
      "\u001b[1;31mTypeError\u001b[0m                                 Traceback (most recent call last)",
      "\u001b[1;32m~\\AppData\\Local\\Temp/ipykernel_9420/1479504816.py\u001b[0m in \u001b[0;36m<module>\u001b[1;34m\u001b[0m\n\u001b[0;32m      1\u001b[0m \u001b[1;31m#\u001b[0m\u001b[1;33m\u001b[0m\u001b[1;33m\u001b[0m\u001b[0m\n\u001b[1;32m----> 2\u001b[1;33m \u001b[0mtuple4\u001b[0m\u001b[1;33m[\u001b[0m\u001b[1;36m2\u001b[0m\u001b[1;33m]\u001b[0m \u001b[1;33m=\u001b[0m \u001b[1;36m3\u001b[0m\u001b[1;33m\u001b[0m\u001b[1;33m\u001b[0m\u001b[0m\n\u001b[0m",
      "\u001b[1;31mTypeError\u001b[0m: 'tuple' object does not support item assignment"
     ]
    }
   ],
   "source": [
    "# 튜플은 추가, 수정, 삭제 불가능\n",
    "tuple4[2] = 3"
   ]
  },
  {
   "cell_type": "code",
   "execution_count": null,
   "id": "03c1a6bd",
   "metadata": {},
   "outputs": [],
   "source": []
  },
  {
   "cell_type": "code",
   "execution_count": 72,
   "id": "4551f937",
   "metadata": {},
   "outputs": [
    {
     "data": {
      "text/plain": [
       "True"
      ]
     },
     "execution_count": 72,
     "metadata": {},
     "output_type": "execute_result"
    }
   ],
   "source": [
    "# in, not in (포함여부에 따라 True)\n",
    "str1 = \"세연쌤은 스무살^^\"\n",
    "'스무살' in str1"
   ]
  },
  {
   "cell_type": "code",
   "execution_count": 73,
   "id": "661cbddb",
   "metadata": {},
   "outputs": [
    {
     "data": {
      "text/plain": [
       "False"
      ]
     },
     "execution_count": 73,
     "metadata": {},
     "output_type": "execute_result"
    }
   ],
   "source": [
    "'스물' in str1"
   ]
  },
  {
   "cell_type": "code",
   "execution_count": 75,
   "id": "134260b0",
   "metadata": {},
   "outputs": [
    {
     "data": {
      "text/plain": [
       "True"
      ]
     },
     "execution_count": 75,
     "metadata": {},
     "output_type": "execute_result"
    }
   ],
   "source": [
    "list8 = ['도영', '준용', '창현', '세윤', '승윤']\n",
    "'세윤' in list8\n",
    "'룰라' not in list8"
   ]
  },
  {
   "cell_type": "code",
   "execution_count": null,
   "id": "c365c01b",
   "metadata": {},
   "outputs": [],
   "source": []
  },
  {
   "cell_type": "code",
   "execution_count": null,
   "id": "581308a2",
   "metadata": {},
   "outputs": [],
   "source": []
  },
  {
   "cell_type": "code",
   "execution_count": null,
   "id": "af99842b",
   "metadata": {},
   "outputs": [],
   "source": []
  },
  {
   "cell_type": "code",
   "execution_count": null,
   "id": "f0a566ad",
   "metadata": {},
   "outputs": [],
   "source": []
  }
 ],
 "metadata": {
  "kernelspec": {
   "display_name": "Python 3 (ipykernel)",
   "language": "python",
   "name": "python3"
  },
  "language_info": {
   "codemirror_mode": {
    "name": "ipython",
    "version": 3
   },
   "file_extension": ".py",
   "mimetype": "text/x-python",
   "name": "python",
   "nbconvert_exporter": "python",
   "pygments_lexer": "ipython3",
   "version": "3.9.7"
  }
 },
 "nbformat": 4,
 "nbformat_minor": 5
}
