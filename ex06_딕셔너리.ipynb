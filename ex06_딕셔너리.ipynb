{
 "cells": [
  {
   "cell_type": "markdown",
   "id": "156821fa",
   "metadata": {},
   "source": [
    "### 딕셔너리\n",
    "- key와 value가 쌍을 이루는 자료형\n",
    "- 순서가 없다"
   ]
  },
  {
   "cell_type": "code",
   "execution_count": 1,
   "id": "fd57bc49",
   "metadata": {},
   "outputs": [
    {
     "data": {
      "text/plain": [
       "{'이름': '세연쌤', 'age': 20, 'phone': '010-0000-0000'}"
      ]
     },
     "execution_count": 1,
     "metadata": {},
     "output_type": "execute_result"
    }
   ],
   "source": [
    "# 딕셔너리 생성\n",
    "dic_1 = {'이름' : '세연쌤', 'age':20, 'phone': '010-0000-0000'}\n",
    "dic_1"
   ]
  },
  {
   "cell_type": "code",
   "execution_count": 2,
   "id": "2968146d",
   "metadata": {},
   "outputs": [
    {
     "data": {
      "text/plain": [
       "dict"
      ]
     },
     "execution_count": 2,
     "metadata": {},
     "output_type": "execute_result"
    }
   ],
   "source": [
    "type(dic_1)"
   ]
  },
  {
   "cell_type": "code",
   "execution_count": 6,
   "id": "3c5aaa59",
   "metadata": {},
   "outputs": [
    {
     "name": "stdout",
     "output_type": "stream",
     "text": [
      "세연쌤\n",
      "20\n"
     ]
    },
    {
     "ename": "KeyError",
     "evalue": "'like'",
     "output_type": "error",
     "traceback": [
      "\u001b[1;31m---------------------------------------------------------------------------\u001b[0m",
      "\u001b[1;31mKeyError\u001b[0m                                  Traceback (most recent call last)",
      "\u001b[1;32m~\\AppData\\Local\\Temp/ipykernel_6784/325825892.py\u001b[0m in \u001b[0;36m<module>\u001b[1;34m\u001b[0m\n\u001b[0;32m      2\u001b[0m \u001b[0mprint\u001b[0m\u001b[1;33m(\u001b[0m\u001b[0mdic_1\u001b[0m\u001b[1;33m[\u001b[0m\u001b[1;34m'이름'\u001b[0m\u001b[1;33m]\u001b[0m\u001b[1;33m)\u001b[0m\u001b[1;33m\u001b[0m\u001b[1;33m\u001b[0m\u001b[0m\n\u001b[0;32m      3\u001b[0m \u001b[0mprint\u001b[0m\u001b[1;33m(\u001b[0m\u001b[0mdic_1\u001b[0m\u001b[1;33m[\u001b[0m\u001b[1;34m'age'\u001b[0m\u001b[1;33m]\u001b[0m\u001b[1;33m)\u001b[0m\u001b[1;33m\u001b[0m\u001b[1;33m\u001b[0m\u001b[0m\n\u001b[1;32m----> 4\u001b[1;33m \u001b[0mprint\u001b[0m\u001b[1;33m(\u001b[0m\u001b[0mdic_1\u001b[0m\u001b[1;33m[\u001b[0m\u001b[1;34m'like'\u001b[0m\u001b[1;33m]\u001b[0m\u001b[1;33m)\u001b[0m\u001b[1;33m\u001b[0m\u001b[1;33m\u001b[0m\u001b[0m\n\u001b[0m",
      "\u001b[1;31mKeyError\u001b[0m: 'like'"
     ]
    }
   ],
   "source": [
    "# 데이터 접근\n",
    "print(dic_1['이름'])\n",
    "print(dic_1['age'])\n",
    "print(dic_1['like'])  # 없는 키 값 에러"
   ]
  },
  {
   "cell_type": "code",
   "execution_count": 7,
   "id": "4c4eedef",
   "metadata": {},
   "outputs": [
    {
     "ename": "KeyError",
     "evalue": "'세연쌤'",
     "output_type": "error",
     "traceback": [
      "\u001b[1;31m---------------------------------------------------------------------------\u001b[0m",
      "\u001b[1;31mKeyError\u001b[0m                                  Traceback (most recent call last)",
      "\u001b[1;32m~\\AppData\\Local\\Temp/ipykernel_6784/1539062617.py\u001b[0m in \u001b[0;36m<module>\u001b[1;34m\u001b[0m\n\u001b[0;32m      1\u001b[0m \u001b[1;31m# key로 데이터에 접근\u001b[0m\u001b[1;33m\u001b[0m\u001b[1;33m\u001b[0m\u001b[0m\n\u001b[1;32m----> 2\u001b[1;33m \u001b[0mprint\u001b[0m\u001b[1;33m(\u001b[0m\u001b[0mdic_1\u001b[0m\u001b[1;33m[\u001b[0m\u001b[1;34m'세연쌤'\u001b[0m\u001b[1;33m]\u001b[0m\u001b[1;33m)\u001b[0m\u001b[1;33m\u001b[0m\u001b[1;33m\u001b[0m\u001b[0m\n\u001b[0m",
      "\u001b[1;31mKeyError\u001b[0m: '세연쌤'"
     ]
    }
   ],
   "source": [
    "# key로 데이터에 접근 해야 함. value값은 안됨.\n",
    "print(dic_1['세연쌤'])"
   ]
  },
  {
   "cell_type": "code",
   "execution_count": 8,
   "id": "a24b7d71",
   "metadata": {},
   "outputs": [
    {
     "data": {
      "text/plain": [
       "{'이름': '세연쌤', 'age': 20, 'phone': '010-0000-0000', 'like': 'gold'}"
      ]
     },
     "execution_count": 8,
     "metadata": {},
     "output_type": "execute_result"
    }
   ],
   "source": [
    "# 딕셔너리 값 추가\n",
    "# 딕셔너리[key] = value\n",
    "dic_1['like'] = 'gold'\n",
    "dic_1"
   ]
  },
  {
   "cell_type": "code",
   "execution_count": 9,
   "id": "27ee1833",
   "metadata": {},
   "outputs": [
    {
     "data": {
      "text/plain": [
       "{'이름': '세연쌤',\n",
       " 'age': 20,\n",
       " 'phone': '010-0000-0000',\n",
       " 'like': 'gold',\n",
       " 'buy': '에어5세대'}"
      ]
     },
     "execution_count": 9,
     "metadata": {},
     "output_type": "execute_result"
    }
   ],
   "source": [
    "dic_1['buy'] = '에어5세대'\n",
    "dic_1"
   ]
  },
  {
   "cell_type": "code",
   "execution_count": 11,
   "id": "6f04443a",
   "metadata": {},
   "outputs": [
    {
     "name": "stdout",
     "output_type": "stream",
     "text": [
      "{'노래': '아무노래'}\n"
     ]
    }
   ],
   "source": [
    "dic_test = {'노래제목':'아무노래'}\n",
    "print(dic_test)"
   ]
  },
  {
   "cell_type": "code",
   "execution_count": 12,
   "id": "7d02bf55",
   "metadata": {},
   "outputs": [
    {
     "name": "stdout",
     "output_type": "stream",
     "text": [
      "{'노래': '아무노래', '가수': '지코', '날짜': '2020.01.13'}\n"
     ]
    }
   ],
   "source": [
    "dic_test['가수'] = '지코'\n",
    "dic_test['날짜'] = '2020.01.13'\n",
    "print(dic_test)"
   ]
  },
  {
   "cell_type": "code",
   "execution_count": 14,
   "id": "1f85bfd6",
   "metadata": {},
   "outputs": [
    {
     "data": {
      "text/plain": [
       "{'이름': '세연쌤',\n",
       " 'age': 20,\n",
       " 'phone': '010-0000-0000',\n",
       " 'like': 'gold',\n",
       " 'buy': '에어5세대'}"
      ]
     },
     "execution_count": 14,
     "metadata": {},
     "output_type": "execute_result"
    }
   ],
   "source": [
    "dic_1"
   ]
  },
  {
   "cell_type": "code",
   "execution_count": 16,
   "id": "76551112",
   "metadata": {},
   "outputs": [
    {
     "data": {
      "text/plain": [
       "'에어5세대'"
      ]
     },
     "execution_count": 16,
     "metadata": {},
     "output_type": "execute_result"
    }
   ],
   "source": [
    "# 데이터 접근 2\n",
    "# get()\n",
    "dic_1.get('buy')"
   ]
  },
  {
   "cell_type": "code",
   "execution_count": 18,
   "id": "3eec6743",
   "metadata": {},
   "outputs": [
    {
     "name": "stdout",
     "output_type": "stream",
     "text": [
      "None\n"
     ]
    }
   ],
   "source": [
    "print(dic_1.get('gold'))"
   ]
  },
  {
   "cell_type": "code",
   "execution_count": 20,
   "id": "ef7933e0",
   "metadata": {},
   "outputs": [
    {
     "data": {
      "text/plain": [
       "{'이름': '세연쌤',\n",
       " 'age': 21,\n",
       " 'phone': '010-0000-0000',\n",
       " 'like': 'gold',\n",
       " 'buy': '에어5세대'}"
      ]
     },
     "execution_count": 20,
     "metadata": {},
     "output_type": "execute_result"
    }
   ],
   "source": [
    "# 딕셔너리 데이터 수정\n",
    "dic_1['age'] = 21\n",
    "dic_1"
   ]
  },
  {
   "cell_type": "code",
   "execution_count": 21,
   "id": "12035e88",
   "metadata": {},
   "outputs": [
    {
     "data": {
      "text/plain": [
       "{'이름': '세연쌤', 'age': 21, 'phone': '010-0000-0000', 'like': 'gold'}"
      ]
     },
     "execution_count": 21,
     "metadata": {},
     "output_type": "execute_result"
    }
   ],
   "source": [
    "# 딕셔너리 값 삭제\n",
    "# del 딕셔너리명 [key]\n",
    "del dic_1['buy']\n",
    "dic_1"
   ]
  },
  {
   "cell_type": "markdown",
   "id": "5b84aa4a",
   "metadata": {},
   "source": [
    "# 딕셔너리 함수"
   ]
  },
  {
   "cell_type": "code",
   "execution_count": 22,
   "id": "8074285a",
   "metadata": {},
   "outputs": [
    {
     "data": {
      "text/plain": [
       "dict_keys(['이름', 'age', 'phone', 'like'])"
      ]
     },
     "execution_count": 22,
     "metadata": {},
     "output_type": "execute_result"
    }
   ],
   "source": [
    "# 딕셔너리 key값 가져오기\n",
    "dic_1.keys()"
   ]
  },
  {
   "cell_type": "code",
   "execution_count": 24,
   "id": "ccec19eb",
   "metadata": {},
   "outputs": [
    {
     "data": {
      "text/plain": [
       "dict_values(['세연쌤', 21, '010-0000-0000', 'gold'])"
      ]
     },
     "execution_count": 24,
     "metadata": {},
     "output_type": "execute_result"
    }
   ],
   "source": [
    "# 딕셔너리 value값 가져오기\n",
    "dic_1.values()"
   ]
  },
  {
   "cell_type": "code",
   "execution_count": 25,
   "id": "b6cd95af",
   "metadata": {},
   "outputs": [
    {
     "name": "stdout",
     "output_type": "stream",
     "text": [
      "이름\n",
      "age\n",
      "phone\n",
      "like\n"
     ]
    }
   ],
   "source": [
    "for key in dic_1.keys():\n",
    "    print(key)"
   ]
  },
  {
   "cell_type": "code",
   "execution_count": 26,
   "id": "419f150d",
   "metadata": {},
   "outputs": [
    {
     "name": "stdout",
     "output_type": "stream",
     "text": [
      "세연쌤\n",
      "21\n",
      "010-0000-0000\n",
      "gold\n"
     ]
    }
   ],
   "source": [
    "for value in dic_1.values():\n",
    "    print(value)"
   ]
  },
  {
   "cell_type": "code",
   "execution_count": 27,
   "id": "4601898e",
   "metadata": {},
   "outputs": [
    {
     "data": {
      "text/plain": [
       "dict_items([('이름', '세연쌤'), ('age', 21), ('phone', '010-0000-0000'), ('like', 'gold')])"
      ]
     },
     "execution_count": 27,
     "metadata": {},
     "output_type": "execute_result"
    }
   ],
   "source": [
    "# key, value쌍을 튜플로 묶은 값\n",
    "dic_1.items()"
   ]
  },
  {
   "cell_type": "code",
   "execution_count": 30,
   "id": "e7b24ff9",
   "metadata": {},
   "outputs": [
    {
     "name": "stdout",
     "output_type": "stream",
     "text": [
      "이름 세연쌤\n",
      "age 21\n",
      "phone 010-0000-0000\n",
      "like gold\n"
     ]
    }
   ],
   "source": [
    "for k,v in dic_1.items():\n",
    "    print(k,v)"
   ]
  },
  {
   "cell_type": "code",
   "execution_count": 32,
   "id": "c76822cd",
   "metadata": {},
   "outputs": [
    {
     "name": "stdout",
     "output_type": "stream",
     "text": [
      "{'이름': '세연쌤', 'age': 21, 'phone': '010-0000-0000', 'like': 'gold'}\n"
     ]
    },
    {
     "data": {
      "text/plain": [
       "True"
      ]
     },
     "execution_count": 32,
     "metadata": {},
     "output_type": "execute_result"
    }
   ],
   "source": [
    "# in, not in\n",
    "# key에 한해서 동작함\n",
    "print(dic_1)\n",
    "'이름' in dic_1"
   ]
  },
  {
   "cell_type": "code",
   "execution_count": 33,
   "id": "43ed644a",
   "metadata": {},
   "outputs": [
    {
     "data": {
      "text/plain": [
       "False"
      ]
     },
     "execution_count": 33,
     "metadata": {},
     "output_type": "execute_result"
    }
   ],
   "source": [
    "'세연쌤' in dic_1"
   ]
  },
  {
   "cell_type": "code",
   "execution_count": 34,
   "id": "f1a6de20",
   "metadata": {},
   "outputs": [],
   "source": [
    "# 딕셔너리 값 모두 지우기\n",
    "dic_1.clear()"
   ]
  },
  {
   "cell_type": "code",
   "execution_count": 35,
   "id": "a2049d6d",
   "metadata": {},
   "outputs": [
    {
     "data": {
      "text/plain": [
       "{}"
      ]
     },
     "execution_count": 35,
     "metadata": {},
     "output_type": "execute_result"
    }
   ],
   "source": [
    "dic_1"
   ]
  },
  {
   "cell_type": "code",
   "execution_count": null,
   "id": "2f8f43e3",
   "metadata": {},
   "outputs": [],
   "source": []
  },
  {
   "cell_type": "code",
   "execution_count": null,
   "id": "4d307305",
   "metadata": {},
   "outputs": [],
   "source": []
  },
  {
   "cell_type": "code",
   "execution_count": null,
   "id": "dace3d2d",
   "metadata": {},
   "outputs": [],
   "source": []
  },
  {
   "cell_type": "code",
   "execution_count": null,
   "id": "f540191a",
   "metadata": {},
   "outputs": [],
   "source": []
  }
 ],
 "metadata": {
  "kernelspec": {
   "display_name": "Python 3 (ipykernel)",
   "language": "python",
   "name": "python3"
  },
  "language_info": {
   "codemirror_mode": {
    "name": "ipython",
    "version": 3
   },
   "file_extension": ".py",
   "mimetype": "text/x-python",
   "name": "python",
   "nbconvert_exporter": "python",
   "pygments_lexer": "ipython3",
   "version": "3.9.7"
  }
 },
 "nbformat": 4,
 "nbformat_minor": 5
}
