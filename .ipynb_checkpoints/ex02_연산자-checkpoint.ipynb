{
 "cells": [
  {
   "cell_type": "code",
   "execution_count": 4,
   "id": "f3f54a2a",
   "metadata": {},
   "outputs": [
    {
     "name": "stdout",
     "output_type": "stream",
     "text": [
      "1.4285714285714286\n",
      "1\n",
      "3\n"
     ]
    }
   ],
   "source": [
    "# 산술연산자\n",
    "# /(나누기), // (나누기 몫) , %(나누기 나머지)\n",
    "num1 = 10\n",
    "num2 = 7\n",
    "print(num1/num2)\n",
    "print(num1//num2)\n",
    "print(num1%num2)"
   ]
  },
  {
   "cell_type": "code",
   "execution_count": 6,
   "id": "8ad740f2",
   "metadata": {},
   "outputs": [
    {
     "name": "stdout",
     "output_type": "stream",
     "text": [
      "점심은뭐 먹지?\n",
      "오점뭐?오점뭐?오점뭐?오점뭐?오점뭐?\n"
     ]
    }
   ],
   "source": [
    "# 문자열 더하기\n",
    "str1 = \"점심은\"\n",
    "str2 = \"뭐 먹지?\"\n",
    "print(str1 + str2)\n",
    "str3 = '오점뭐?'\n",
    "print(str3 * 5)"
   ]
  },
  {
   "cell_type": "code",
   "execution_count": 7,
   "id": "3c3ed37d",
   "metadata": {},
   "outputs": [
    {
     "data": {
      "text/plain": [
       "'105'"
      ]
     },
     "execution_count": 7,
     "metadata": {},
     "output_type": "execute_result"
    }
   ],
   "source": [
    "str1 = \"10\"\n",
    "str2 = \"5\"\n",
    "str1 + str2"
   ]
  },
  {
   "cell_type": "code",
   "execution_count": 8,
   "id": "510df709",
   "metadata": {},
   "outputs": [
    {
     "ename": "TypeError",
     "evalue": "unsupported operand type(s) for +: 'int' and 'str'",
     "output_type": "error",
     "traceback": [
      "\u001b[1;31m---------------------------------------------------------------------------\u001b[0m",
      "\u001b[1;31mTypeError\u001b[0m                                 Traceback (most recent call last)",
      "\u001b[1;32m~\\AppData\\Local\\Temp/ipykernel_9784/1723183174.py\u001b[0m in \u001b[0;36m<module>\u001b[1;34m\u001b[0m\n\u001b[0;32m      1\u001b[0m \u001b[1;31m# 숫자+문자열\u001b[0m\u001b[1;33m\u001b[0m\u001b[1;33m\u001b[0m\u001b[0m\n\u001b[0;32m      2\u001b[0m \u001b[0mnum1\u001b[0m \u001b[1;33m=\u001b[0m \u001b[1;36m3\u001b[0m\u001b[1;33m\u001b[0m\u001b[1;33m\u001b[0m\u001b[0m\n\u001b[1;32m----> 3\u001b[1;33m \u001b[0mnum1\u001b[0m \u001b[1;33m+\u001b[0m \u001b[0mstr1\u001b[0m\u001b[1;33m\u001b[0m\u001b[1;33m\u001b[0m\u001b[0m\n\u001b[0m",
      "\u001b[1;31mTypeError\u001b[0m: unsupported operand type(s) for +: 'int' and 'str'"
     ]
    }
   ],
   "source": [
    "# 숫자 + 문자열 => 안됨\n",
    "num1 = 3\n",
    "num1 + str1"
   ]
  },
  {
   "cell_type": "code",
   "execution_count": 13,
   "id": "3c9faef9",
   "metadata": {},
   "outputs": [
    {
     "name": "stdout",
     "output_type": "stream",
     "text": [
      "310\n",
      "13\n"
     ]
    }
   ],
   "source": [
    "# 문자 + 문자\n",
    "print(str(num1) + str1)\n",
    "# 숫자 + 숫자\n",
    "print(num1 + int(str1))"
   ]
  },
  {
   "cell_type": "markdown",
   "id": "f99fd2a4",
   "metadata": {},
   "source": [
    "### 키보드로부터 입력받기 : input()\n",
    "- 입력한 값을 문자열로 돌려준다!(반환)"
   ]
  },
  {
   "cell_type": "code",
   "execution_count": 15,
   "id": "09e55ccb",
   "metadata": {},
   "outputs": [
    {
     "name": "stdout",
     "output_type": "stream",
     "text": [
      "정수를 입력해주세요 :정수\n"
     ]
    },
    {
     "data": {
      "text/plain": [
       "'정수'"
      ]
     },
     "execution_count": 15,
     "metadata": {},
     "output_type": "execute_result"
    }
   ],
   "source": [
    "input('정수를 입력해주세요 : ')"
   ]
  },
  {
   "cell_type": "code",
   "execution_count": 19,
   "id": "bd50662e",
   "metadata": {},
   "outputs": [
    {
     "name": "stdout",
     "output_type": "stream",
     "text": [
      "나이를 입력해주세요 : 20\n"
     ]
    },
    {
     "data": {
      "text/plain": [
       "20"
      ]
     },
     "execution_count": 19,
     "metadata": {},
     "output_type": "execute_result"
    }
   ],
   "source": [
    "# input 함수가 문자열로 반환함\n",
    "# 산술 연산을 하려면 int로 감싼 후 변수에 담기\n",
    "age = int(input('나이를 입력해주세요 : '))\n",
    "age"
   ]
  },
  {
   "cell_type": "code",
   "execution_count": 21,
   "id": "21601397",
   "metadata": {},
   "outputs": [
    {
     "data": {
      "text/plain": [
       "23"
      ]
     },
     "execution_count": 21,
     "metadata": {},
     "output_type": "execute_result"
    }
   ],
   "source": [
    "age + 3"
   ]
  }
 ],
 "metadata": {
  "kernelspec": {
   "display_name": "Python 3 (ipykernel)",
   "language": "python",
   "name": "python3"
  },
  "language_info": {
   "codemirror_mode": {
    "name": "ipython",
    "version": 3
   },
   "file_extension": ".py",
   "mimetype": "text/x-python",
   "name": "python",
   "nbconvert_exporter": "python",
   "pygments_lexer": "ipython3",
   "version": "3.9.7"
  }
 },
 "nbformat": 4,
 "nbformat_minor": 5
}
