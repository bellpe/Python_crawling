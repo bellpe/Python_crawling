{
 "cells": [
  {
   "cell_type": "markdown",
   "id": "56ac4a0a",
   "metadata": {},
   "source": [
    "### 설명작성 셀\n",
    "- Command Mode(파란색) : ESC(셀 작동)\n",
    "- Edit Mode(초록색) : Click or Enter(코드 작성모드)"
   ]
  },
  {
   "cell_type": "code",
   "execution_count": 4,
   "id": "70d65262",
   "metadata": {},
   "outputs": [],
   "source": [
    "# Command Mode\n",
    "# a - 윗 셀 추가\n",
    "# b - 아랫 셀 추가\n",
    "# m - 마크다운\n",
    "# y - 코드모드\n",
    "# dd - 셀 삭제"
   ]
  },
  {
   "cell_type": "code",
   "execution_count": 2,
   "id": "d042826c",
   "metadata": {},
   "outputs": [],
   "source": [
    "# 주석은 '#'을 단다.\n",
    "# 실행 단축키 3\n",
    "# Ctrl+Enter\n",
    "# Alt +Enter\n",
    "# Shift+Enter"
   ]
  },
  {
   "cell_type": "code",
   "execution_count": 3,
   "id": "fc274ee1",
   "metadata": {},
   "outputs": [
    {
     "data": {
      "text/plain": [
       "3"
      ]
     },
     "execution_count": 3,
     "metadata": {},
     "output_type": "execute_result"
    }
   ],
   "source": [
    "3"
   ]
  },
  {
   "cell_type": "code",
   "execution_count": 8,
   "id": "28edbdc9",
   "metadata": {},
   "outputs": [
    {
     "name": "stdout",
     "output_type": "stream",
     "text": [
      "3\n",
      "3.3\n",
      "엽떡은 조대점~~\n",
      "파이썬 최고~~\n"
     ]
    }
   ],
   "source": [
    "# 변수에 값 대입 1\n",
    "num1 = 3\n",
    "print(num1)\n",
    "num2 = 3.3\n",
    "print(num2)\n",
    "str2 = \"파이썬 최고~~\" # 파이썬 문자열 '' or \"\"\n",
    "str1 = '엽떡은 조대점~~'\n",
    "print(str1)\n",
    "print(str2)"
   ]
  },
  {
   "cell_type": "code",
   "execution_count": 10,
   "id": "cc281cd9",
   "metadata": {},
   "outputs": [
    {
     "name": "stdout",
     "output_type": "stream",
     "text": [
      "3\n",
      "4\n"
     ]
    }
   ],
   "source": [
    "# 변수에 값 대입 2\n",
    "a, b = 3, 4\n",
    "print(a)\n",
    "print(b)"
   ]
  },
  {
   "cell_type": "code",
   "execution_count": 11,
   "id": "2023a211",
   "metadata": {},
   "outputs": [
    {
     "name": "stdout",
     "output_type": "stream",
     "text": [
      "치킨\n",
      "치킨\n"
     ]
    }
   ],
   "source": [
    "# 변수에 값 대입 3\n",
    "str3 = str4 = '치킨'\n",
    "print(str3)\n",
    "print(str4)"
   ]
  },
  {
   "cell_type": "code",
   "execution_count": 14,
   "id": "ec4fb10f",
   "metadata": {},
   "outputs": [
    {
     "name": "stdout",
     "output_type": "stream",
     "text": [
      "300\n"
     ]
    }
   ],
   "source": [
    "# 예제\n",
    "x = 100\n",
    "y = 200\n",
    "sum1 = x+y\n",
    "print(sum1)"
   ]
  },
  {
   "cell_type": "markdown",
   "id": "d4b625b5",
   "metadata": {},
   "source": [
    "# 문자열"
   ]
  },
  {
   "cell_type": "markdown",
   "id": "55c4ceae",
   "metadata": {},
   "source": [
    "##### 작은 따옴표의 짝이 맞이 않음\n",
    "'she's gone'"
   ]
  },
  {
   "cell_type": "code",
   "execution_count": 19,
   "id": "8f3372aa",
   "metadata": {},
   "outputs": [
    {
     "data": {
      "text/plain": [
       "\"she's gone\""
      ]
     },
     "execution_count": 19,
     "metadata": {},
     "output_type": "execute_result"
    }
   ],
   "source": [
    "# 작은 따옴표 문자로 이용하기\n",
    "s = \"she's gone\"\n",
    "s"
   ]
  },
  {
   "cell_type": "code",
   "execution_count": 21,
   "id": "962a93f8",
   "metadata": {},
   "outputs": [
    {
     "data": {
      "text/plain": [
       "\"she's gone\""
      ]
     },
     "execution_count": 21,
     "metadata": {},
     "output_type": "execute_result"
    }
   ],
   "source": [
    "# 이스케이프 코드\n",
    "'she\\'s gone' # 역슬래쉬(\\)"
   ]
  },
  {
   "cell_type": "code",
   "execution_count": 22,
   "id": "d7e26b41",
   "metadata": {},
   "outputs": [
    {
     "name": "stdout",
     "output_type": "stream",
     "text": [
      "내가 사라져 볼게\"얍\"\n"
     ]
    }
   ],
   "source": [
    "s1 = \"내가 사라져 볼게\\\"얍\\\"\"\n",
    "print(s1)"
   ]
  },
  {
   "cell_type": "code",
   "execution_count": 23,
   "id": "351b4867",
   "metadata": {},
   "outputs": [
    {
     "ename": "SyntaxError",
     "evalue": "EOL while scanning string literal (Temp/ipykernel_9544/2554690005.py, line 1)",
     "output_type": "error",
     "traceback": [
      "\u001b[1;36m  File \u001b[1;32m\"C:\\Users\\smhrd\\AppData\\Local\\Temp/ipykernel_9544/2554690005.py\"\u001b[1;36m, line \u001b[1;32m1\u001b[0m\n\u001b[1;33m    '내가 사라져볼게\u001b[0m\n\u001b[1;37m             ^\u001b[0m\n\u001b[1;31mSyntaxError\u001b[0m\u001b[1;31m:\u001b[0m EOL while scanning string literal\n"
     ]
    }
   ],
   "source": [
    "# 따옴표 하나로는 엔터 기능 안됨\n",
    "'내가 사라져볼게\n",
    "얍\n",
    "얍\n",
    "얍'"
   ]
  },
  {
   "cell_type": "code",
   "execution_count": 28,
   "id": "7d460841",
   "metadata": {},
   "outputs": [
    {
     "name": "stdout",
     "output_type": "stream",
     "text": [
      "\"내가\n",
      "사라져볼게\n",
      "얍\n",
      "얍\n",
      "얍\n"
     ]
    }
   ],
   "source": [
    "# 따옴표 3개 이용하기!\n",
    "s2 = \"\"\"\"내가\n",
    "사라져볼게\n",
    "얍\n",
    "얍\n",
    "얍\"\"\"\n",
    "print(s2)"
   ]
  },
  {
   "cell_type": "markdown",
   "id": "599261fb",
   "metadata": {},
   "source": [
    "### 인덱싱과 슬라이싱"
   ]
  },
  {
   "cell_type": "code",
   "execution_count": 29,
   "id": "1333e4bb",
   "metadata": {},
   "outputs": [
    {
     "data": {
      "text/plain": [
       "'My name is SY'"
      ]
     },
     "execution_count": 29,
     "metadata": {},
     "output_type": "execute_result"
    }
   ],
   "source": [
    "msg = \"My name is SY\"\n",
    "msg"
   ]
  },
  {
   "cell_type": "code",
   "execution_count": 32,
   "id": "e56d28d9",
   "metadata": {},
   "outputs": [
    {
     "name": "stdout",
     "output_type": "stream",
     "text": [
      "m\n",
      "Y\n"
     ]
    }
   ],
   "source": [
    "# 인덱스(index) : 데이터가 위치한 값 표현(양/음수 모두 가능)\n",
    "# 인덱싱 : 인덱스를 활용해 위치를 가르킨다\n",
    "print(msg[5])\n",
    "print(msg[-1])\n",
    "\n",
    "# SY 출력\n",
    "print(msg[-2], msg[-1])"
   ]
  },
  {
   "cell_type": "code",
   "execution_count": 38,
   "id": "b5a7700e",
   "metadata": {},
   "outputs": [
    {
     "name": "stdout",
     "output_type": "stream",
     "text": [
      "My\n",
      "name\n",
      "name\n"
     ]
    }
   ],
   "source": [
    "# 슬라이싱 [시작(이상) : 끝(미만)]\n",
    "# : 특정 범위를 지정해서 값을 가져옴\n",
    "print(msg[0:2])\n",
    "\n",
    "# 'name'을 출력(슬라이싱 활용)\n",
    "print(msg[3:7])\n",
    "print(msg[-10:-6])"
   ]
  },
  {
   "cell_type": "code",
   "execution_count": 44,
   "id": "962b225a",
   "metadata": {},
   "outputs": [
    {
     "name": "stdout",
     "output_type": "stream",
     "text": [
      "My\n",
      "My\n",
      "SY\n",
      "SY\n",
      "My name is SY\n"
     ]
    }
   ],
   "source": [
    "# 'My'를 출력\n",
    "print(msg[0:2])\n",
    "print(msg[ :2])\n",
    "\n",
    "# 'SY'를 출력\n",
    "print(msg[11:13])\n",
    "print(msg[11: ])\n",
    "\n",
    "print(msg[:])\n",
    "# [ : 인덱스] -> 처음부터 인덱스(-1)까지 슬라이싱\n",
    "# [인덱스 : ] -> 처음부터 끝까지 슬라이싱\n",
    "# [:] -> 처음부터 끝까지"
   ]
  },
  {
   "cell_type": "code",
   "execution_count": null,
   "id": "b8971f51",
   "metadata": {},
   "outputs": [],
   "source": []
  },
  {
   "cell_type": "markdown",
   "id": "4273823f",
   "metadata": {},
   "source": [
    "#### 문자열 포매팅\n",
    "- 문자열 안에 특정한 값을 삽입할 때 사용\n",
    "1. 문자열 포맷코드 (%)\n",
    "2. format 함수 (format())"
   ]
  },
  {
   "cell_type": "code",
   "execution_count": 54,
   "id": "e58c73cd",
   "metadata": {},
   "outputs": [
    {
     "data": {
      "text/plain": [
       "'2022년 03월 4일의 날씨는 맑음니다.'"
      ]
     },
     "execution_count": 54,
     "metadata": {},
     "output_type": "execute_result"
    }
   ],
   "source": [
    "# 1. 문자열 포멧코드\n",
    "day = 4\n",
    "weather = '맑음'\n",
    "\"2022년 03월 %d일의 날씨는 %s니다.\"%(day, weather)\n",
    "# 두 개 이상 변수는 () 소괄호 이용!"
   ]
  },
  {
   "cell_type": "code",
   "execution_count": 57,
   "id": "1d540055",
   "metadata": {},
   "outputs": [
    {
     "data": {
      "text/plain": [
       "'2022년 03월 4일의 날씨는 맑음입니다.'"
      ]
     },
     "execution_count": 57,
     "metadata": {},
     "output_type": "execute_result"
    }
   ],
   "source": [
    "# 2. .format 함수 - {}\n",
    "\"2022년 03월 {}일의 날씨는 {}입니다.\".format(day, weather)"
   ]
  },
  {
   "cell_type": "code",
   "execution_count": 49,
   "id": "5a3a2563",
   "metadata": {},
   "outputs": [
    {
     "data": {
      "text/plain": [
       "'2022년 03월 02일의 날씨는 맑음입니다.'"
      ]
     },
     "execution_count": 49,
     "metadata": {},
     "output_type": "execute_result"
    }
   ],
   "source": [
    "\"2022년 03월 02일의 날씨는 맑음입니다.\""
   ]
  },
  {
   "cell_type": "code",
   "execution_count": 59,
   "id": "12dfca47",
   "metadata": {},
   "outputs": [
    {
     "data": {
      "text/plain": [
       "'2022년 03월 4일의 날씨는 맑음입니다.'"
      ]
     },
     "execution_count": 59,
     "metadata": {},
     "output_type": "execute_result"
    }
   ],
   "source": [
    "# 3. f 문자열 포매팅\n",
    "f\"2022년 03월 {day}일의 날씨는 {weather}입니다.\""
   ]
  },
  {
   "cell_type": "code",
   "execution_count": null,
   "id": "69520c06",
   "metadata": {},
   "outputs": [],
   "source": []
  },
  {
   "cell_type": "code",
   "execution_count": null,
   "id": "a54dc4c5",
   "metadata": {},
   "outputs": [],
   "source": []
  },
  {
   "cell_type": "markdown",
   "id": "973a2400",
   "metadata": {},
   "source": [
    "### 문자열 함수"
   ]
  },
  {
   "cell_type": "code",
   "execution_count": 60,
   "id": "6ce8fadf",
   "metadata": {},
   "outputs": [
    {
     "data": {
      "text/plain": [
       "25"
      ]
     },
     "execution_count": 60,
     "metadata": {},
     "output_type": "execute_result"
    }
   ],
   "source": [
    "# 문자열의 길이 반환\n",
    "msg2 = 'Python is easy and simple'\n",
    "len(msg2)"
   ]
  },
  {
   "cell_type": "code",
   "execution_count": 62,
   "id": "f4ae9941",
   "metadata": {},
   "outputs": [
    {
     "data": {
      "text/plain": [
       "'인공지능반 최고'"
      ]
     },
     "execution_count": 62,
     "metadata": {},
     "output_type": "execute_result"
    }
   ],
   "source": [
    "# 양쪽 공백 제거 : Srtip()\n",
    "msg3 = '     인공지능반 최고      '\n",
    "msg3.strip()"
   ]
  },
  {
   "cell_type": "code",
   "execution_count": 66,
   "id": "4fae5d62",
   "metadata": {},
   "outputs": [
    {
     "name": "stdout",
     "output_type": "stream",
     "text": [
      "세연쌤은 스무살 ^^\n",
      "세연쌤은 스물한살 ^^\n"
     ]
    }
   ],
   "source": [
    "# replace(이전 문자, 대체할 문자)\n",
    "# 특정 문자를 다른 문자로 대체\n",
    "msg4 = '세연쌤은 스무살 ^^'\n",
    "msg4.replace('스무살','스물한살')\n",
    "# 변수에 함수 결과가 반영되지 않는다!\n",
    "print(msg4)\n",
    "\n",
    "# 반영시키려면??? 변수에 대입!\n",
    "msg4 = msg4.replace('스무살','스물한살')\n",
    "print(msg4)"
   ]
  },
  {
   "cell_type": "code",
   "execution_count": 68,
   "id": "e70acdec",
   "metadata": {},
   "outputs": [
    {
     "name": "stdout",
     "output_type": "stream",
     "text": [
      "세연쌤은 스물한살 ^^\n"
     ]
    },
    {
     "data": {
      "text/plain": [
       "['세연쌤은', '스물한살', '^^']"
      ]
     },
     "execution_count": 68,
     "metadata": {},
     "output_type": "execute_result"
    }
   ],
   "source": [
    "# 문자열 나누기 : split()\n",
    "# 공백을 기준으로 나뉜다\n",
    "print(msg4)\n",
    "msg4.split()"
   ]
  },
  {
   "cell_type": "code",
   "execution_count": 71,
   "id": "3880574b",
   "metadata": {},
   "outputs": [
    {
     "data": {
      "text/plain": [
       "['세연쌤은', '스무살', '^^']"
      ]
     },
     "execution_count": 71,
     "metadata": {},
     "output_type": "execute_result"
    }
   ],
   "source": [
    "# split('기준 문자열') -> 기준으로 나뉨!\n",
    "msg5 = '세연쌤은_스무살_^^'\n",
    "msg5.split('_')"
   ]
  },
  {
   "cell_type": "code",
   "execution_count": null,
   "id": "868adaec",
   "metadata": {},
   "outputs": [],
   "source": []
  },
  {
   "cell_type": "code",
   "execution_count": null,
   "id": "fb25e2a8",
   "metadata": {},
   "outputs": [],
   "source": []
  },
  {
   "cell_type": "code",
   "execution_count": null,
   "id": "64d19040",
   "metadata": {},
   "outputs": [],
   "source": []
  }
 ],
 "metadata": {
  "kernelspec": {
   "display_name": "Python 3 (ipykernel)",
   "language": "python",
   "name": "python3"
  },
  "language_info": {
   "codemirror_mode": {
    "name": "ipython",
    "version": 3
   },
   "file_extension": ".py",
   "mimetype": "text/x-python",
   "name": "python",
   "nbconvert_exporter": "python",
   "pygments_lexer": "ipython3",
   "version": "3.9.7"
  }
 },
 "nbformat": 4,
 "nbformat_minor": 5
}
