{
 "cells": [
  {
   "cell_type": "markdown",
   "id": "0a32ba75",
   "metadata": {},
   "source": [
    "# 이미지 크롤링"
   ]
  },
  {
   "cell_type": "code",
   "execution_count": 2,
   "id": "7ed3f377",
   "metadata": {},
   "outputs": [],
   "source": [
    "from selenium import webdriver as wb\n",
    "from bs4 import BeautifulSoup as bs\n",
    "from selenium.webdriver.common.keys import Keys\n",
    "import time\n",
    "\n",
    "import os # 파일시스템을 위한 라이브러리 ex) 파일, 폴더를 생성, 삭제, 존재여부\n",
    "from urllib.request import urlretrieve # 이미지경로를 파일로 저장"
   ]
  },
  {
   "cell_type": "code",
   "execution_count": 5,
   "id": "43e1a437",
   "metadata": {},
   "outputs": [
    {
     "data": {
      "text/plain": [
       "True"
      ]
     },
     "execution_count": 5,
     "metadata": {},
     "output_type": "execute_result"
    }
   ],
   "source": [
    "# os.path.isdir('./이미지')"
   ]
  },
  {
   "cell_type": "code",
   "execution_count": 4,
   "id": "3055c5af",
   "metadata": {},
   "outputs": [],
   "source": [
    "# os.mkdir('./이미지')"
   ]
  },
  {
   "cell_type": "code",
   "execution_count": 7,
   "id": "e3120699",
   "metadata": {},
   "outputs": [
    {
     "name": "stdout",
     "output_type": "stream",
     "text": [
      "폴더생성\n"
     ]
    }
   ],
   "source": [
    "if not os.path.isdir('./이미지'):\n",
    "    os.mkdir('./이미지')\n",
    "    print('폴더생성')"
   ]
  },
  {
   "cell_type": "code",
   "execution_count": 8,
   "id": "18465b66",
   "metadata": {},
   "outputs": [],
   "source": [
    "driver =wb.Chrome()\n",
    "driver.get('https://search.naver.com/search.naver?where=image&sm=tab_jum&query=%ED%8C%8C%EC%9D%B4%EB%A6%AC')"
   ]
  },
  {
   "cell_type": "code",
   "execution_count": 9,
   "id": "0da23c88",
   "metadata": {},
   "outputs": [],
   "source": [
    "n_page = bs(driver.page_source, 'lxml')\n",
    "imgs=n_page.select('._image._listImage')"
   ]
  },
  {
   "cell_type": "code",
   "execution_count": 14,
   "id": "3bc57ff4",
   "metadata": {},
   "outputs": [],
   "source": [
    "img_list = []\n",
    "\n",
    "for i in imgs:\n",
    "    img_list.append(i['src'])"
   ]
  },
  {
   "cell_type": "code",
   "execution_count": 16,
   "id": "a2931043",
   "metadata": {
    "collapsed": true
   },
   "outputs": [
    {
     "data": {
      "text/plain": [
       "['https://search.pstatic.net/common/?src=http%3A%2F%2Fblogfiles.naver.net%2FMjAyMTA1MTlfMjc0%2FMDAxNjIxMzUzMDYzMTY5.uR08Pjfb33agSRegcWq3Lh49iNEYkamdEmunc0a4Ot0g.j12_jQ4lqhhrNnguFtZXBver8l2npj_opHUsHtD9Jtcg.JPEG.sujinpong%2Ffee179e549fb5af9c04b13889e9400da.jpg&type=a340',\n",
       " 'https://search.pstatic.net/common/?src=http%3A%2F%2Fblogfiles.naver.net%2F20120713_149%2Fka2ha_1342126350926yS06N_JPEG%2F004.jpg&type=a340',\n",
       " 'https://search.pstatic.net/common/?src=http%3A%2F%2Fblogfiles.naver.net%2FMjAxNzAyMDZfOTEg%2FMDAxNDg2MzA4OTA1NDAx.J9iUwpJB3ezPioGDuuXpEJSz3EqHFVhWmLgsSFyiT3gg.mUtrVJBLCAQWHmocn-B38gKOBpO6uLCeKVuAXNKYnJcg.JPEG.boa2226%2F20170205_%253F%258C%258C%253F%259D%25B4%25EB%25A6%25AC%25EB%25BF%258C%253F%2593%25AF2.jpg&type=a340',\n",
       " 'https://search.pstatic.net/common/?src=http%3A%2F%2Fblogfiles.naver.net%2F20160824_17%2Ftitangood_1472050380559dhQqi_JPEG%2Fa6f18c0c-511c-44f3-9e32-d1568eb6bd7d.jpg&type=a340',\n",
       " 'data:image/gif;base64,R0lGODlhAQABAIAAAAAAAP///yH5BAEAAAAALAAAAAABAAEAAAIBRAA7',\n",
       " 'data:image/gif;base64,R0lGODlhAQABAIAAAAAAAP///yH5BAEAAAAALAAAAAABAAEAAAIBRAA7',\n",
       " 'https://search.pstatic.net/common/?src=http%3A%2F%2Fimage.nmv.naver.net%2Fblogucc28%2F2015%2F11%2F26%2F1033%2F0e30818d93b1139d97db9614c6ab6a2d6b70_ugcvideo_270P_01_16x9_logo.jpg&type=a340',\n",
       " 'https://search.pstatic.net/common/?src=http%3A%2F%2Fblogfiles.naver.net%2F20140717_261%2Fqwas6457_14055664232008qq5U_JPEG%2FC6C42.JPG&type=a340',\n",
       " 'https://search.pstatic.net/common/?src=http%3A%2F%2Fshop1.phinf.naver.net%2F20220315_55%2F1647316830488RbnM7_PNG%2F48452673155657136_769670899.png&type=a340',\n",
       " 'https://search.pstatic.net/common/?src=http%3A%2F%2Fblogfiles.naver.net%2FMjAyMTA4MDFfMTY3%2FMDAxNjI3NzY2OTc2MjE2.Z-ygKqp1cwbAKs76uks5TO2lSsABMGfGfXZwThPTd7cg.cbTRao4jQDmzgGVuC7TQL6UQBRFyApkjbE9kNVM22Bgg.JPEG.hyewon2love%2F20210731%25A3%25DF142544%25A3%25DFHDR.jpg&type=ofullfill340_600',\n",
       " 'data:image/gif;base64,R0lGODlhAQABAIAAAAAAAP///yH5BAEAAAAALAAAAAABAAEAAAIBRAA7',\n",
       " 'https://search.pstatic.net/common/?src=http%3A%2F%2Fcafefiles.naver.net%2F20110813_95%2F23249603_1313225068595_UUMnrU_png%2Fentoisketch.png&type=a340',\n",
       " 'https://search.pstatic.net/sunny/?src=https%3A%2F%2Fdnvefa72aowie.cloudfront.net%2Forigin%2Farticle%2F202202%2Ffdbeea583cd90fba0378d082a94877edfa0a2a7a4782fb0ccd3f349e37105c70.webp%3Fq%3D95%26s%3D1440x1440%26t%3Dinside&type=a340',\n",
       " 'https://search.pstatic.net/common/?src=http%3A%2F%2Fblogfiles.naver.net%2FMjAyMjAzMTZfNjAg%2FMDAxNjQ3NDI5MDE2Mjc2.h-GLSadR1l27bWImaQn8SWFJYjnb6wKaZBF6Zz3sA4Qg.bx3IzwfWU_3SOJ1oS9Xq1CeC99Pfk3PzC16beW13I4gg.PNG.pen_2%2F%25C6%25C44.png&type=a340',\n",
       " 'data:image/gif;base64,R0lGODlhAQABAIAAAAAAAP///yH5BAEAAAAALAAAAAABAAEAAAIBRAA7',\n",
       " 'https://search.pstatic.net/common/?src=http%3A%2F%2Fshop1.phinf.naver.net%2F20220315_296%2F1647350837244xDyzl_JPEG%2F48486682965639474_516695241.jpg&type=a340',\n",
       " 'https://search.pstatic.net/common/?src=http%3A%2F%2Fblogfiles.naver.net%2FMjAyMjAzMTNfODYg%2FMDAxNjQ3MTc1NTIwMzQ2.P3Al_3ZjoRwC_ltOeRy-OhoBfMXicqQdv_zgsqympEMg.yVanVFG2-JGIYq55waycZkOTcGSxsgEUmCvrm_xIx3sg.JPEG.april_bom%2F1647175520390.jpg&type=a340',\n",
       " 'https://search.pstatic.net/common/?src=http%3A%2F%2Fcafefiles.naver.net%2FMjAxNzA5MTBfMTQ0%2FMDAxNTA1MDMzNzYxNzA2.2BZvQdE8f_2WjViDHBb-5Te9DIu3Ez6xn173anWsyWsg.yzkqoN7gkTwD29h8xuQbT-_VH2G_NB0xFy2uglXoh4Mg.JPEG.haemuk117%2Fnv_1505033758192.jpg&type=a340',\n",
       " 'data:image/gif;base64,R0lGODlhAQABAIAAAAAAAP///yH5BAEAAAAALAAAAAABAAEAAAIBRAA7',\n",
       " 'data:image/gif;base64,R0lGODlhAQABAIAAAAAAAP///yH5BAEAAAAALAAAAAABAAEAAAIBRAA7',\n",
       " 'data:image/gif;base64,R0lGODlhAQABAIAAAAAAAP///yH5BAEAAAAALAAAAAABAAEAAAIBRAA7',\n",
       " 'data:image/gif;base64,R0lGODlhAQABAIAAAAAAAP///yH5BAEAAAAALAAAAAABAAEAAAIBRAA7',\n",
       " 'data:image/gif;base64,R0lGODlhAQABAIAAAAAAAP///yH5BAEAAAAALAAAAAABAAEAAAIBRAA7',\n",
       " 'data:image/gif;base64,R0lGODlhAQABAIAAAAAAAP///yH5BAEAAAAALAAAAAABAAEAAAIBRAA7',\n",
       " 'data:image/gif;base64,R0lGODlhAQABAIAAAAAAAP///yH5BAEAAAAALAAAAAABAAEAAAIBRAA7',\n",
       " 'data:image/gif;base64,R0lGODlhAQABAIAAAAAAAP///yH5BAEAAAAALAAAAAABAAEAAAIBRAA7',\n",
       " 'data:image/gif;base64,R0lGODlhAQABAIAAAAAAAP///yH5BAEAAAAALAAAAAABAAEAAAIBRAA7',\n",
       " 'data:image/gif;base64,R0lGODlhAQABAIAAAAAAAP///yH5BAEAAAAALAAAAAABAAEAAAIBRAA7',\n",
       " 'data:image/gif;base64,R0lGODlhAQABAIAAAAAAAP///yH5BAEAAAAALAAAAAABAAEAAAIBRAA7',\n",
       " 'data:image/gif;base64,R0lGODlhAQABAIAAAAAAAP///yH5BAEAAAAALAAAAAABAAEAAAIBRAA7',\n",
       " 'data:image/gif;base64,R0lGODlhAQABAIAAAAAAAP///yH5BAEAAAAALAAAAAABAAEAAAIBRAA7',\n",
       " 'data:image/gif;base64,R0lGODlhAQABAIAAAAAAAP///yH5BAEAAAAALAAAAAABAAEAAAIBRAA7',\n",
       " 'data:image/gif;base64,R0lGODlhAQABAIAAAAAAAP///yH5BAEAAAAALAAAAAABAAEAAAIBRAA7',\n",
       " 'data:image/gif;base64,R0lGODlhAQABAIAAAAAAAP///yH5BAEAAAAALAAAAAABAAEAAAIBRAA7',\n",
       " 'data:image/gif;base64,R0lGODlhAQABAIAAAAAAAP///yH5BAEAAAAALAAAAAABAAEAAAIBRAA7',\n",
       " 'data:image/gif;base64,R0lGODlhAQABAIAAAAAAAP///yH5BAEAAAAALAAAAAABAAEAAAIBRAA7',\n",
       " 'data:image/gif;base64,R0lGODlhAQABAIAAAAAAAP///yH5BAEAAAAALAAAAAABAAEAAAIBRAA7',\n",
       " 'data:image/gif;base64,R0lGODlhAQABAIAAAAAAAP///yH5BAEAAAAALAAAAAABAAEAAAIBRAA7',\n",
       " 'data:image/gif;base64,R0lGODlhAQABAIAAAAAAAP///yH5BAEAAAAALAAAAAABAAEAAAIBRAA7',\n",
       " 'data:image/gif;base64,R0lGODlhAQABAIAAAAAAAP///yH5BAEAAAAALAAAAAABAAEAAAIBRAA7',\n",
       " 'data:image/gif;base64,R0lGODlhAQABAIAAAAAAAP///yH5BAEAAAAALAAAAAABAAEAAAIBRAA7',\n",
       " 'data:image/gif;base64,R0lGODlhAQABAIAAAAAAAP///yH5BAEAAAAALAAAAAABAAEAAAIBRAA7',\n",
       " 'data:image/gif;base64,R0lGODlhAQABAIAAAAAAAP///yH5BAEAAAAALAAAAAABAAEAAAIBRAA7',\n",
       " 'data:image/gif;base64,R0lGODlhAQABAIAAAAAAAP///yH5BAEAAAAALAAAAAABAAEAAAIBRAA7',\n",
       " 'data:image/gif;base64,R0lGODlhAQABAIAAAAAAAP///yH5BAEAAAAALAAAAAABAAEAAAIBRAA7',\n",
       " 'data:image/gif;base64,R0lGODlhAQABAIAAAAAAAP///yH5BAEAAAAALAAAAAABAAEAAAIBRAA7',\n",
       " 'data:image/gif;base64,R0lGODlhAQABAIAAAAAAAP///yH5BAEAAAAALAAAAAABAAEAAAIBRAA7',\n",
       " 'data:image/gif;base64,R0lGODlhAQABAIAAAAAAAP///yH5BAEAAAAALAAAAAABAAEAAAIBRAA7',\n",
       " 'data:image/gif;base64,R0lGODlhAQABAIAAAAAAAP///yH5BAEAAAAALAAAAAABAAEAAAIBRAA7',\n",
       " 'data:image/gif;base64,R0lGODlhAQABAIAAAAAAAP///yH5BAEAAAAALAAAAAABAAEAAAIBRAA7']"
      ]
     },
     "execution_count": 16,
     "metadata": {},
     "output_type": "execute_result"
    }
   ],
   "source": [
    "img_list"
   ]
  },
  {
   "cell_type": "code",
   "execution_count": 28,
   "id": "62d68463",
   "metadata": {},
   "outputs": [
    {
     "ename": "SyntaxError",
     "evalue": "invalid syntax (Temp/ipykernel_10308/743985491.py, line 1)",
     "output_type": "error",
     "traceback": [
      "\u001b[1;36m  File \u001b[1;32m\"C:\\Users\\smhrd\\AppData\\Local\\Temp/ipykernel_10308/743985491.py\"\u001b[1;36m, line \u001b[1;32m1\u001b[0m\n\u001b[1;33m    for i in range(len(img_list):\u001b[0m\n\u001b[1;37m                                ^\u001b[0m\n\u001b[1;31mSyntaxError\u001b[0m\u001b[1;31m:\u001b[0m invalid syntax\n"
     ]
    }
   ],
   "source": []
  },
  {
   "cell_type": "code",
   "execution_count": null,
   "id": "54c0d6e8",
   "metadata": {},
   "outputs": [],
   "source": [
    "urlretrieve(img_list[i], './이미지/'+ str(i) +'.jpg')\n",
    "    \n",
    "    time.sleep(1)\n",
    "    print('%s번째 이미지가 저장 중입니다.'%i)"
   ]
  },
  {
   "cell_type": "code",
   "execution_count": null,
   "id": "35ae9572",
   "metadata": {},
   "outputs": [],
   "source": [
    "for i in range(len(img_list):"
   ]
  },
  {
   "cell_type": "code",
   "execution_count": null,
   "id": "bcc0b033",
   "metadata": {},
   "outputs": [],
   "source": []
  },
  {
   "cell_type": "code",
   "execution_count": null,
   "id": "a6a728fc",
   "metadata": {},
   "outputs": [],
   "source": []
  },
  {
   "cell_type": "code",
   "execution_count": null,
   "id": "cebfd3ae",
   "metadata": {},
   "outputs": [],
   "source": []
  },
  {
   "cell_type": "code",
   "execution_count": null,
   "id": "aba532c8",
   "metadata": {},
   "outputs": [],
   "source": []
  },
  {
   "cell_type": "code",
   "execution_count": null,
   "id": "07aff8ec",
   "metadata": {},
   "outputs": [],
   "source": []
  },
  {
   "cell_type": "code",
   "execution_count": null,
   "id": "1fe81214",
   "metadata": {},
   "outputs": [],
   "source": []
  },
  {
   "cell_type": "code",
   "execution_count": null,
   "id": "633e3cf8",
   "metadata": {},
   "outputs": [],
   "source": []
  }
 ],
 "metadata": {
  "kernelspec": {
   "display_name": "Python 3 (ipykernel)",
   "language": "python",
   "name": "python3"
  },
  "language_info": {
   "codemirror_mode": {
    "name": "ipython",
    "version": 3
   },
   "file_extension": ".py",
   "mimetype": "text/x-python",
   "name": "python",
   "nbconvert_exporter": "python",
   "pygments_lexer": "ipython3",
   "version": "3.9.7"
  }
 },
 "nbformat": 4,
 "nbformat_minor": 5
}
